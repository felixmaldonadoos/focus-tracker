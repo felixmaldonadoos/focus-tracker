{
 "cells": [
  {
   "cell_type": "code",
   "execution_count": 1,
   "id": "5ea2fd4b",
   "metadata": {},
   "outputs": [],
   "source": [
    "# Importing Image class from PIL module\n",
    "from PIL import Image\n",
    " \n",
    "# Opens a image in RGB mode\n",
    "im = Image.open(r\"rsz_getfocus.jpg\")\n",
    " \n",
    "# Size of the image in pixels (size of original image)\n",
    "# (This is not mandatory)\n",
    "width, height = im.size\n",
    " \n",
    "# Setting the points for cropped image\n",
    "left = 6\n",
    "top = height / 4\n",
    "right = 174\n",
    "bottom = 3 * height / 4\n",
    " \n",
    "# Cropped image of above dimension\n",
    "# (It will not change original image)\n",
    "im1 = im.crop((left, top, right, bottom))\n",
    "newsize = (200, 200)\n",
    "im1 = im1.resize(newsize)\n",
    "# Shows the image in image viewer\n",
    "im1.show()"
   ]
  },
  {
   "cell_type": "code",
   "execution_count": null,
   "id": "5181de9d",
   "metadata": {},
   "outputs": [],
   "source": []
  }
 ],
 "metadata": {
  "kernelspec": {
   "display_name": "Python 3 (ipykernel)",
   "language": "python",
   "name": "python3"
  },
  "language_info": {
   "codemirror_mode": {
    "name": "ipython",
    "version": 3
   },
   "file_extension": ".py",
   "mimetype": "text/x-python",
   "name": "python",
   "nbconvert_exporter": "python",
   "pygments_lexer": "ipython3",
   "version": "3.9.7"
  }
 },
 "nbformat": 4,
 "nbformat_minor": 5
}
