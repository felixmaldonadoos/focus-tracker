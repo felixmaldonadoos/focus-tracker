{
 "cells": [
  {
   "cell_type": "code",
   "execution_count": 1,
   "id": "11360058",
   "metadata": {},
   "outputs": [
    {
     "ename": "ModuleNotFoundError",
     "evalue": "No module named 'dash'",
     "output_type": "error",
     "traceback": [
      "\u001b[1;31m---------------------------------------------------------------------------\u001b[0m",
      "\u001b[1;31mModuleNotFoundError\u001b[0m                       Traceback (most recent call last)",
      "\u001b[1;32mC:\\Users\\FELIXM~1\\AppData\\Local\\Temp/ipykernel_19132/631078579.py\u001b[0m in \u001b[0;36m<module>\u001b[1;34m\u001b[0m\n\u001b[1;32m----> 1\u001b[1;33m \u001b[1;32mimport\u001b[0m \u001b[0mdash\u001b[0m\u001b[1;33m\u001b[0m\u001b[1;33m\u001b[0m\u001b[0m\n\u001b[0m\u001b[0;32m      2\u001b[0m \u001b[1;32mfrom\u001b[0m \u001b[0mdash\u001b[0m\u001b[1;33m.\u001b[0m\u001b[0mdependencies\u001b[0m \u001b[1;32mimport\u001b[0m \u001b[0mOutput\u001b[0m\u001b[1;33m,\u001b[0m \u001b[0mEvent\u001b[0m\u001b[1;33m\u001b[0m\u001b[1;33m\u001b[0m\u001b[0m\n\u001b[0;32m      3\u001b[0m \u001b[1;32mimport\u001b[0m \u001b[0mdash_core_components\u001b[0m \u001b[1;32mas\u001b[0m \u001b[0mdcc\u001b[0m\u001b[1;33m\u001b[0m\u001b[1;33m\u001b[0m\u001b[0m\n\u001b[0;32m      4\u001b[0m \u001b[1;32mimport\u001b[0m \u001b[0mdash_html_components\u001b[0m \u001b[1;32mas\u001b[0m \u001b[0mhtml\u001b[0m\u001b[1;33m\u001b[0m\u001b[1;33m\u001b[0m\u001b[0m\n\u001b[0;32m      5\u001b[0m \u001b[1;32mimport\u001b[0m \u001b[0mplotly\u001b[0m\u001b[1;33m\u001b[0m\u001b[1;33m\u001b[0m\u001b[0m\n",
      "\u001b[1;31mModuleNotFoundError\u001b[0m: No module named 'dash'"
     ]
    }
   ],
   "source": [
    "import dash\n",
    "from dash.dependencies import Output, Event\n",
    "import dash_core_components as dcc\n",
    "import dash_html_components as html\n",
    "import plotly\n",
    "import random\n",
    "import plotly.graph_objs as go\n",
    "from collections import deque"
   ]
  },
  {
   "cell_type": "code",
   "execution_count": 9,
   "id": "a997febe",
   "metadata": {},
   "outputs": [
    {
     "ename": "ModuleNotFoundError",
     "evalue": "No module named 'pyqtgraph'",
     "output_type": "error",
     "traceback": [
      "\u001b[1;31m---------------------------------------------------------------------------\u001b[0m",
      "\u001b[1;31mModuleNotFoundError\u001b[0m                       Traceback (most recent call last)",
      "\u001b[1;32mC:\\Users\\FELIXM~1\\AppData\\Local\\Temp/ipykernel_24248/2157412210.py\u001b[0m in \u001b[0;36m<module>\u001b[1;34m\u001b[0m\n\u001b[1;32m----> 1\u001b[1;33m \u001b[1;32mimport\u001b[0m \u001b[0mpyqtgraph\u001b[0m\u001b[1;33m\u001b[0m\u001b[1;33m\u001b[0m\u001b[0m\n\u001b[0m",
      "\u001b[1;31mModuleNotFoundError\u001b[0m: No module named 'pyqtgraph'"
     ]
    }
   ],
   "source": [
    "\n",
    "X = deque(maxlen=20)\n",
    "X.append(1)\n",
    "Y = deque(maxlen=20)\n",
    "Y.append(1)\n",
    "\n",
    "\n",
    "app = dash.Dash(__name__)\n",
    "app.layout = html.Div(\n",
    "    [\n",
    "        dcc.Graph(id='live-graph', animate=True),\n",
    "        dcc.Interval(\n",
    "            id='graph-update',\n",
    "            interval=1*1000\n",
    "        ),\n",
    "    ]\n",
    ")\n",
    "\n",
    "@app.callback(Output('live-graph', 'figure'),\n",
    "              events=[Event('graph-update', 'interval')])\n",
    "def update_graph_scatter():\n",
    "    X.append(X[-1]+1)\n",
    "    Y.append(Y[-1]+Y[-1]*random.uniform(-0.1,0.1))\n",
    "\n",
    "    data = plotly.graph_objs.Scatter(\n",
    "            x=list(X),\n",
    "            y=list(Y),\n",
    "            name='Scatter',\n",
    "            mode= 'lines+markers'\n",
    "            )\n",
    "\n",
    "    return {'data': [data],'layout' : go.Layout(xaxis=dict(range=[min(X),max(X)]),\n",
    "                                                yaxis=dict(range=[min(Y),max(Y)]),)}\n",
    "\n",
    "\n",
    "\n",
    "if __name__ == '__main__':\n",
    "    app.run_server(debug=True)"
   ]
  },
  {
   "cell_type": "code",
   "execution_count": null,
   "id": "ce569924",
   "metadata": {},
   "outputs": [],
   "source": []
  }
 ],
 "metadata": {
  "kernelspec": {
   "display_name": "Python 3 (ipykernel)",
   "language": "python",
   "name": "python3"
  },
  "language_info": {
   "codemirror_mode": {
    "name": "ipython",
    "version": 3
   },
   "file_extension": ".py",
   "mimetype": "text/x-python",
   "name": "python",
   "nbconvert_exporter": "python",
   "pygments_lexer": "ipython3",
   "version": "3.9.7"
  }
 },
 "nbformat": 4,
 "nbformat_minor": 5
}
